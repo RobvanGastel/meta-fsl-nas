{
 "cells": [
  {
   "cell_type": "code",
   "execution_count": 2,
   "metadata": {},
   "outputs": [],
   "source": [
    "import numpy as np\n",
    "\n",
    "import torch\n",
    "import torch.nn as nn\n",
    "import torch.nn.functional as F\n",
    "import scipy.special"
   ]
  },
  {
   "cell_type": "code",
   "execution_count": 54,
   "metadata": {},
   "outputs": [
    {
     "data": {
      "text/plain": [
       "(tensor([ 0.0008,  0.0017, -0.0001,  0.0014, -0.0016, -0.0014,  0.0006],\n",
       "        grad_fn=<AddBackward0>),\n",
       " tensor([0.1429, 0.1431, 0.1428, 0.1430, 0.1426, 0.1426, 0.1429],\n",
       "        grad_fn=<SoftmaxBackward>))"
      ]
     },
     "execution_count": 54,
     "metadata": {},
     "output_type": "execute_result"
    }
   ],
   "source": [
    "inverse_softmax(norm_alphas[0][0], C), F.softmax(inverse_softmax(norm_alphas[0][0], C), dim=-1)"
   ]
  },
  {
   "cell_type": "code",
   "execution_count": 459,
   "metadata": {},
   "outputs": [
    {
     "name": "stdout",
     "output_type": "stream",
     "text": [
      "orig tensor([ 1.1632, -0.5108, -1.6094, -0.9163,  0.8755,  1.3083, -2.3026],\n",
      "       grad_fn=<SelectBackward>)\n",
      "norm tensor([0.3019, 0.0566, 0.0189, 0.0377, 0.2264, 0.3491, 0.0094],\n",
      "       grad_fn=<SelectBackward>) tensor(1.0000, grad_fn=<SumBackward0>)\n"
     ]
    }
   ],
   "source": [
    "n_ops = 7\n",
    "n_nodes = 3\n",
    "\n",
    "alphas = []\n",
    "norm_alphas = []\n",
    "\n",
    "\n",
    "for i in range(n_nodes):\n",
    "    a = nn.Parameter(\n",
    "        1e-3 * torch.randn(i + 2, n_ops))\n",
    "    alphas.append(a)\n",
    "    norm_alphas.append(F.softmax(a, dim=-1))\n",
    "\n",
    "\n",
    "def inverse_softmax(x, C):\n",
    "    return torch.log(x) + C\n",
    "\n",
    "def calc_C_term(a):\n",
    "#     e_xi = torch.exp(a)\n",
    "#     sum_i = torch.sum(e_xi)\n",
    "#     c_i = torch.log(sum_i)\n",
    "#     return c_i\n",
    "    return torch.log(torch.tensor([10.]))[0]\n",
    "\n",
    "\n",
    "# Fully, allows increase \n",
    "def increase_op(row_idx, edge_idx, op_idx, prob=0.3, n_ops=7):\n",
    "    C = calc_C_term(alphas[row_idx][edge_idx])\n",
    "    \n",
    "    # Set short-hands\n",
    "#     curr_op = norm_alphas[row_idx][edge_idx][op_idx]\n",
    "#     curr_edge = norm_alphas[row_idx][edge_idx]\n",
    "    curr_op = torch.tensor([0.32, 0.05, 0.01, 0.03, 0.23, 0.36, 0.00])[op_idx]\n",
    "    curr_edge = torch.tensor([0.32, 0.05, 0.01, 0.03, 0.23, 0.36, 0.00])\n",
    "    \n",
    "    \n",
    "    # Allow for increasing to 0.99\n",
    "    if curr_op + prob > 1.0:\n",
    "        surplus = curr_op + prob - 0.99\n",
    "        prob -= surplus\n",
    "    \n",
    "    if curr_op + prob < 1.0:\n",
    "        # Increase chosen op\n",
    "        with torch.no_grad():\n",
    "            curr_op += prob\n",
    "\n",
    "        # Align the other probabilities by lowering them\n",
    "#         indices = np.delete(np.arange(n_ops), op_idx)\n",
    "        with torch.no_grad():\n",
    "            curr_edge += 0.01\n",
    "    \n",
    "    with torch.no_grad():\n",
    "        alphas[row_idx][edge_idx] = inverse_softmax(curr_edge, C)\n",
    "        \n",
    "        \n",
    "    # Display for testing\n",
    "    print(\"orig\", alphas[row_idx][edge_idx])\n",
    "    norm_alphas[row_idx][edge_idx] = F.softmax(alphas[row_idx][edge_idx], dim=-1)\n",
    "    print(\"norm\", norm_alphas[row_idx][edge_idx], torch.sum(norm_alphas[row_idx][edge_idx]))\n",
    "    \n",
    "    \n",
    "    \n",
    "def decrease_op(row_idx, edge_idx, op_idx, prob=0.3, n_ops=7):\n",
    "    C = calc_C_term(alphas[row_idx][edge_idx])\n",
    "    \n",
    "    # Set short-hands\n",
    "    curr_op = norm_alphas[row_idx][edge_idx][op_idx]\n",
    "    curr_edge = norm_alphas[row_idx][edge_idx]\n",
    "    \n",
    "    # Allow for increasing to 0.99\n",
    "    if curr_op - prob < 0.0:\n",
    "        surplus = prob - curr_op + 0.01\n",
    "        print(surplus)\n",
    "        prob -= surplus\n",
    "        print(prob)\n",
    "    \n",
    "    if curr_op - prob > 0.0:\n",
    "        # Increase chosen op\n",
    "        with torch.no_grad():\n",
    "            curr_op -= prob\n",
    "\n",
    "        # Align the other probabilities by lowering them\n",
    "        indices = np.arange(n_ops), op_idx\n",
    "        with torch.no_grad():\n",
    "            norm_alphas[row_idx][edge_idx] += 0.01\n",
    "    \n",
    "    with torch.no_grad():\n",
    "        alphas[row_idx][edge_idx] = inverse_softmax(curr_edge, C)\n",
    "        \n",
    "        \n",
    "    # Display for testing\n",
    "    print(\"orig\", alphas[row_idx][edge_idx])\n",
    "    norm_alphas[row_idx][edge_idx] = F.softmax(alphas[row_idx][edge_idx], dim=-1)\n",
    "    print(\"norm\", norm_alphas[row_idx][edge_idx], torch.sum(norm_alphas[row_idx][edge_idx]))\n",
    "    \n",
    "increase_op(0, 0, 0)"
   ]
  },
  {
   "cell_type": "code",
   "execution_count": null,
   "metadata": {},
   "outputs": [],
   "source": []
  },
  {
   "cell_type": "code",
   "execution_count": null,
   "metadata": {},
   "outputs": [],
   "source": []
  },
  {
   "cell_type": "code",
   "execution_count": null,
   "metadata": {},
   "outputs": [],
   "source": []
  },
  {
   "cell_type": "code",
   "execution_count": null,
   "metadata": {},
   "outputs": [],
   "source": []
  }
 ],
 "metadata": {
  "kernelspec": {
   "display_name": "Python 3.7.10 64-bit ('meta': conda)",
   "language": "python",
   "name": "python3710jvsc74a57bd0b1d57bbef129b95556cf4acac245eaf539d69532a51fcbf5e76efb5e83c89ceb"
  },
  "language_info": {
   "codemirror_mode": {
    "name": "ipython",
    "version": 3
   },
   "file_extension": ".py",
   "mimetype": "text/x-python",
   "name": "python",
   "nbconvert_exporter": "python",
   "pygments_lexer": "ipython3",
   "version": "3.7.10"
  }
 },
 "nbformat": 4,
 "nbformat_minor": 5
}
