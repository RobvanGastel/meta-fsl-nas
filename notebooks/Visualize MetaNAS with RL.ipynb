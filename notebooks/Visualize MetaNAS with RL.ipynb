{
 "cells": [
  {
   "cell_type": "code",
   "execution_count": null,
   "metadata": {},
   "outputs": [],
   "source": [
    "import os\n",
    "import sys\n",
    "import glob\n",
    "import pickle\n",
    "sys.path.append('../metanas')\n",
    "\n",
    "import numpy as np\n",
    "import pandas as pd\n",
    "\n",
    "import matplotlib\n",
    "import seaborn as sns\n",
    "import matplotlib.pyplot as plt\n",
    "plt.style.use('ggplot')\n",
    "\n",
    "from IPython.display import Image, display, Markdown\n",
    "matplotlib.rcParams['font.serif'] = ['CMU Serif Roman']"
   ]
  },
  {
   "cell_type": "code",
   "execution_count": null,
   "metadata": {},
   "outputs": [],
   "source": [
    "def get_experiment_pickle(base_path, path):\n",
    "    result = []\n",
    "    path = os.path.join(base_path, path)\n",
    "    for p in glob.glob(f\"{path}/*/experiment.pickle\"):\n",
    "        with (open(p, 'rb')) as f:\n",
    "            res = pickle.load(f)\n",
    "            result.append(res)\n",
    "    \n",
    "    return result\n",
    "\n",
    "\n",
    "def mean_std(arr):\n",
    "    arr = np.array(arr)\n",
    "    arr = arr * 100\n",
    "    return np.mean(arr, axis=0), np.std(arr, axis=0)\n",
    "\n",
    "\n",
    "def plot_accuracy_loss_multiple_seeds(base_path, paths, labels, eval_every,\n",
    "                                      title=\"\", draw_warm_up=False):\n",
    "    \"\"\"Plot all the results in one overview\"\"\"\n",
    "\n",
    "    def plot_line_training(ax, result, indice, label, y_label):\n",
    "        train_acc = np.array([np.array(m[indice]) for m in result])\n",
    "\n",
    "        len_epoch = len(np.array(result[0][indice]))\n",
    "        train_acc_mean = train_acc.mean(axis=0)\n",
    "        train_acc_std = train_acc.std(axis=0)\n",
    "        x_axis_meta = np.array(range(train_acc_mean.shape[0]))\n",
    "        \n",
    "        ax.plot(x_axis_meta, train_acc_mean, lw = 2, alpha = 1, label=label)\n",
    "        ax.set_title(f\"Meta-training {y_label}\")\n",
    "        ax.fill_between(x_axis_meta, train_acc_mean - train_acc_std,\n",
    "                        train_acc_mean + train_acc_std, alpha = 0.4)\n",
    "        ax.set_xlabel(\"epoch\")\n",
    "        ax.set_ylabel(y_label)\n",
    "        \n",
    "        handles, labels = ax.get_legend_handles_labels()\n",
    "        ax.legend(handles, labels, loc=\"best\")\n",
    "    \n",
    "    def plot_line_test(ax, result, indice, label, y_label, eval_every):\n",
    "        test_spacing = np.linspace(\n",
    "            eval_every, eval_every*len(result[0][indice]),\n",
    "            num=len(result[0][indice]), retstep=eval_every,\n",
    "            dtype=np.int32\n",
    "        )[0]\n",
    "\n",
    "        train_acc = np.array([np.array(m[indice]) for m in result])\n",
    "        len_epoch = len(np.array(result[0][indice]))\n",
    "        train_acc_mean = train_acc.mean(axis=0)\n",
    "        train_acc_std = train_acc.std(axis=0)\n",
    "        \n",
    "        ax.plot(test_spacing[:len(result[0][indice])],\n",
    "                train_acc_mean, lw = 2,\n",
    "                alpha = 1, label=label)\n",
    "        \n",
    "        ax.set_title(f\"Meta-testing {y_label}\")\n",
    "        ax.fill_between(test_spacing[:len(result[0][indice])],\n",
    "                        train_acc_mean - train_acc_std,\n",
    "                        train_acc_mean + train_acc_std, alpha = 0.4)\n",
    "        ax.set_xlabel(\"epoch\")\n",
    "        ax.set_ylabel(y_label)\n",
    "        \n",
    "        handles, labels = ax.get_legend_handles_labels()\n",
    "        ax.legend(handles, labels, loc=\"best\")\n",
    "    \n",
    "    results = [get_experiment_pickle(base_path, p) for p in paths]\n",
    "    fig, ax = plt.subplots(2, 2, figsize=(20, 10))\n",
    "#     plt.suptitle(title, fontsize=14)\n",
    "    \n",
    "    \n",
    "    # ax[0].axvline(x=250, color=\"gray\", linestyle=\"--\", label=\"End of warm up\")\n",
    "    # ax.axvline(x=250, color=\"gray\", linestyle=\"--\", label=\"End of warm up\")\n",
    "    y_label = [\"acurracy\", \"loss\"]\n",
    "    if draw_warm_up:\n",
    "        for i, _ in enumerate(results):\n",
    "            \n",
    "            for j, _ in enumerate([\"train_test_accu\", \"train_test_loss\"]):\n",
    "                ax[i,j].axvline(x=250, linestyle=\"dashed\", label=\"Warm-up phase ends\", c='gray')\n",
    "    \n",
    "    for i, res in enumerate(results):\n",
    "        if len(res) == 2:\n",
    "            print(f\"current {i} experiment: {labels[i]}\")\n",
    "#             print([res[0]['test_test_accu'][-1], res[1]['test_test_accu'][-1]])\n",
    "            print(f\"test_test_accu, mean and std: {mean_std([res[0]['test_test_accu'][-1], res[1]['test_test_accu'][-1]])}\")\n",
    "            print(f\"train_test_loss, mean and std: {mean_std([res[0]['train_test_loss'][-1], res[1]['train_test_loss'][-1]])}\")\n",
    "        else:\n",
    "            print(f\"Only one sample available for {names[i]}\")\n",
    "            print(f\"current {i} experiment: {labels[i]}\")\n",
    "#             print(f\"params: {res[0]['test_test_params'][-1]}\")\n",
    "            print(f\"test_test_accu, mean and std: {mean_std([res[0]['test_test_accu'][-1]])}\")\n",
    "            print(f\"train_test_loss, mean and std: {mean_std([res[0]['train_test_loss'][-1]])}\")\n",
    "        \n",
    "        \n",
    "        for j, indice in enumerate([\"train_test_accu\", \"train_test_loss\"]):\n",
    "            plot_line_training(ax[j, 0], res, indice, labels[i], y_label=y_label[j])\n",
    "        \n",
    "        for j, indice in enumerate([\"test_test_accu\", \"test_test_loss\"]):\n",
    "            plot_line_test(ax[j, 1], res, indice, labels[i], y_label=y_label[j], eval_every=eval_every[i])"
   ]
  },
  {
   "cell_type": "markdown",
   "metadata": {},
   "source": [
    "# Ablation plots - Omniglot 1-shot, 20-way\n",
    "---"
   ]
  },
  {
   "cell_type": "code",
   "execution_count": null,
   "metadata": {},
   "outputs": [],
   "source": [
    "# TODO: Add parsing for seperate meta-testing, meta-training\n",
    "# TODO: Add parsing graphs for MetaNAS + RL (CSV)"
   ]
  },
  {
   "cell_type": "code",
   "execution_count": null,
   "metadata": {},
   "outputs": [],
   "source": []
  },
  {
   "cell_type": "code",
   "execution_count": null,
   "metadata": {},
   "outputs": [],
   "source": []
  },
  {
   "cell_type": "code",
   "execution_count": null,
   "metadata": {},
   "outputs": [],
   "source": []
  },
  {
   "cell_type": "code",
   "execution_count": null,
   "metadata": {},
   "outputs": [],
   "source": []
  },
  {
   "cell_type": "markdown",
   "metadata": {},
   "source": [
    "# Best ablation components for MetaNAS\n",
    "\n",
    "---\n",
    "\n",
    "*Dropout skip-connection, limit skip-connection and alpha regularization*"
   ]
  },
  {
   "cell_type": "markdown",
   "metadata": {},
   "source": [
    "\n",
    "\n",
    "| 1-shot, 20-way Omniglot  |   |   | 3-shot, 20-way Omniglot  |   |   |\n",
    "|--------------------------|---|---|--------------------------|---|---|\n",
    "| **Seed 0**               |   |   | **Seed 0**               |   |   |\n",
    "| MetaNAS (baseline)       | x |   | MetaNAS (baseline)       | x |   |\n",
    "| Best ablation            |   | x | Best ablation            |   | x |\n",
    "| **Seed 1**               |   |   | **Seed 1**               |   |   |\n",
    "| MetaNAS (baseline)       | x |   | MetaNAS (baseline)       | x |   |\n",
    "| Best ablation            |   | x | Best ablation            |   | x |\n"
   ]
  },
  {
   "cell_type": "markdown",
   "metadata": {},
   "source": [
    "## 1-shot, 20-way Omniglot"
   ]
  },
  {
   "cell_type": "code",
   "execution_count": null,
   "metadata": {},
   "outputs": [],
   "source": [
    "# 1-shot, 20-way Omniglot\n",
    "base_path = \"/home/rob/Desktop/results/ablation\"\n",
    "\n",
    "paths = [\n",
    "    \"omniglot_train_metanas_w_param\",\n",
    "    \"omniglot_train_dropout_limit_sk\", \n",
    "    \"omniglot_train_alpha_power_cos_dropout_limit_sk_n1\",\n",
    "    \"omniglot_train_metanas_tse_sk\",\n",
    "    \"omniglot_train_metanas_tse\",\n",
    "    \"omniglot_train_metanas_tse_sk_alpha_reg\"\n",
    "]\n",
    "\n",
    "names = [\n",
    "    \"MetaNAS\",\n",
    "    \"Limit skip-Conn+Dropout Skip-Conn\",\n",
    "    \"Limit skip-Conn+Dropout Skip-Conn+Alpha Reg+Cos Ann\",\n",
    "    \"TSE+Limit and dropout SK\",\n",
    "    \"TSE\",\n",
    "    \"TSE+Limit and dropout SK+alpha reg\"\n",
    "]\n",
    "\n",
    "plot_accuracy_loss_multiple_seeds(\n",
    "    base_path, paths, names, eval_every=[100, 100, 100, 100, 100, 100],\n",
    "    title=\"Baseline comparison, n=1, k=20, Omniglot dataset\")"
   ]
  },
  {
   "cell_type": "markdown",
   "metadata": {},
   "source": [
    "## 3-shot, 20-way Omniglot"
   ]
  },
  {
   "cell_type": "code",
   "execution_count": null,
   "metadata": {},
   "outputs": [],
   "source": [
    "# 3-shot, 20-way Omniglot\n",
    "base_path = \"/home/rob/Desktop/results/baseline\"\n",
    "\n",
    "paths = [\n",
    "    \"omniglot_train_metanas_n3\",\n",
    "    \"omniglot_train_dropout_limit_sk_n3\",\n",
    "    \"omniglot_train_alpha_power_cos_dropout_limit_sk_n3\",\n",
    "]\n",
    "\n",
    "names = [\n",
    "    \"MetaNAS\",\n",
    "    \"Dropout+limit SK\",\n",
    "    \"Dropout+Limit SK+AlphaReg+PowerCosineAnnealing\",\n",
    "]\n",
    "\n",
    "plot_accuracy_loss_multiple_seeds(base_path, paths, names, eval_every=[100, 100, 100],\n",
    "                   title=\"Baseline comparison, n=3, k=20, Omniglot dataset\")"
   ]
  },
  {
   "cell_type": "markdown",
   "metadata": {},
   "source": [
    "| 3-shot, 20-way TripleMNIST  |   |   |\n",
    "|-----------------------------|---|---|\n",
    "| **Seed 0**                  |   |   |\n",
    "| MetaNAS (baseline)          | x |   |\n",
    "| Best ablation               |   | x |\n",
    "| **Seed 1**                  |   |   |\n",
    "| MetaNAS (baseline)          | - |   |\n",
    "| Best ablation               |   | x |"
   ]
  },
  {
   "cell_type": "markdown",
   "metadata": {},
   "source": [
    "## 3-shot, 20-way TripleMNIST"
   ]
  },
  {
   "cell_type": "code",
   "execution_count": null,
   "metadata": {},
   "outputs": [],
   "source": [
    "# 3-shot, 20-way TripleMNIST\n",
    "base_path = \"/home/rob/Desktop/results/baseline\"\n",
    "\n",
    "paths = [\n",
    "    \"triplemnist_train_metanas_n3\",\n",
    "    \"triplemnist_train_dropout_limit_sk_n3\",\n",
    "    \"triplemnist_train_dropout_limit_sk_alpha_reg_cos_n3\"\n",
    "]\n",
    "\n",
    "names = [\n",
    "    \"MetaNAS\",\n",
    "    \"limit and dropout SK\",\n",
    "    \"limit, dropout SK, alpha reg, cos\"\n",
    "]\n",
    "\n",
    "plot_accuracy_loss_multiple_seeds(base_path, paths, names, eval_every=[100, 100, 100],\n",
    "                   title=\"Baseline comparison, n=3, k=20, TripleMNIST dataset\")"
   ]
  },
  {
   "cell_type": "code",
   "execution_count": null,
   "metadata": {},
   "outputs": [],
   "source": []
  },
  {
   "cell_type": "code",
   "execution_count": null,
   "metadata": {},
   "outputs": [],
   "source": []
  },
  {
   "cell_type": "markdown",
   "metadata": {},
   "source": [
    "## MetaNAS + RL\n",
    "\n",
    "---"
   ]
  },
  {
   "cell_type": "markdown",
   "metadata": {},
   "source": [
    "| 1-shot, 20-way Omniglot                 |   |   |\n",
    "|-----------------------------------------|---|---|\n",
    "| **Seed 0**                              |   |   |\n",
    "| MetaNAS (baseline)                      | - |   |\n",
    "| Best ablation                           |   | - |\n",
    "| **Seed 1**                              |   |   |\n",
    "| MetaNAS (baseline)                      | - |   |\n",
    "| Best ablation                           |   | - |\n"
   ]
  },
  {
   "cell_type": "code",
   "execution_count": null,
   "metadata": {},
   "outputs": [],
   "source": [
    "base_path = \"/home/rob/Git/meta-fsl-nas/metanas/results/agent/\"\n",
    "\n",
    "paths = [\n",
    "    \"triplemnist_metanas_ppo_agent_metad2a\"\n",
    "]\n",
    "\n",
    "names = [\n",
    "    \"MetaNAS+RL agent\"]\n",
    "\n",
    "\n",
    "\n",
    "plot_accuracy_loss_multiple_seeds(base_path, paths, names, eval_every=[5],\n",
    "                   title=\"MetaNAS+RL agent, n=1, k=20, TripleMNIST dataset\")"
   ]
  },
  {
   "cell_type": "code",
   "execution_count": null,
   "metadata": {},
   "outputs": [],
   "source": []
  }
 ],
 "metadata": {
  "kernelspec": {
   "display_name": "Python 3",
   "language": "python",
   "name": "python3"
  },
  "language_info": {
   "codemirror_mode": {
    "name": "ipython",
    "version": 3
   },
   "file_extension": ".py",
   "mimetype": "text/x-python",
   "name": "python",
   "nbconvert_exporter": "python",
   "pygments_lexer": "ipython3",
   "version": "3.7.2"
  }
 },
 "nbformat": 4,
 "nbformat_minor": 4
}
