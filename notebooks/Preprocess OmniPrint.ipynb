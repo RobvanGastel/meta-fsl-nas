{
 "cells": [
  {
   "cell_type": "code",
   "execution_count": 1,
   "metadata": {},
   "outputs": [],
   "source": [
    "import os\n",
    "import json\n",
    "import glob\n",
    "\n",
    "import numpy as np\n",
    "import cv2 as cv"
   ]
  },
  {
   "cell_type": "code",
   "execution_count": null,
   "metadata": {},
   "outputs": [],
   "source": [
    "path = \"/home/rob/Git/meta-fsl-nas/data/OmniPrint-metaX\"\n",
    "dest_base_path = \"/home/rob/Git/meta-fsl-nas/data/OmniPrint\"\n",
    "subsets = ['meta1', 'meta2', 'meta3', 'meta4', 'meta5']\n",
    "\n",
    "meta1_labels = []\n",
    "meta2_labels = []\n",
    "meta3_labels = []\n",
    "meta4_labels = []\n",
    "meta5_labels = []\n",
    "\n",
    "\n",
    "for subset, labels in zip(subsets, [meta1_labels, meta2_labels, meta3_labels, meta4_labels, meta5_labels]):\n",
    "    dest_dataset_path = f\"{dest_base_path}/{subset}\"\n",
    "    dataset_path = os.path.join(path, subset)\n",
    "\n",
    "    for char_path in list(glob.iglob(f'{dataset_path}/*')):\n",
    "        # Divide into sections per class of 20 samples\n",
    "        n_samples = len(list(glob.iglob(f'{char_path}/data/*.png')))\n",
    "        if n_samples % 20 != 0:\n",
    "            print(f\"Size of {path} contains more than 20 samples per class\")\n",
    "\n",
    "        char_type = os.path.split(char_path)[-1]\n",
    "\n",
    "        prefix_idx = 0\n",
    "        for i in range(n_samples):\n",
    "            # Create initial directory\n",
    "            if i == 0:\n",
    "                os.makedirs(f\"{dest_dataset_path}/{char_type}/character_{prefix_idx}/\")\n",
    "\n",
    "            # Read image\n",
    "            sample_path = f\"{char_path}/data/{char_type}_{i}.png\"\n",
    "#             print(sample_path)\n",
    "            img = cv.imread(sample_path)\n",
    "\n",
    "            # Write to destination path\n",
    "            dest_path = f\"{dest_dataset_path}/{char_type}/character_{prefix_idx}/character_{i}.png\"\n",
    "            cv2.imwrite(dest_path, img)\n",
    "\n",
    "            if (i+1) % 20 == 0 and i != 0:\n",
    "                # Track labels\n",
    "                label_ar = [subset, char_type, f\"character_{prefix_idx}\"]\n",
    "                labels.append(label_ar)\n",
    "                \n",
    "                prefix_idx += 1\n",
    "                if (i+1) != n_samples:\n",
    "                    os.makedirs(f\"{dest_dataset_path}/{char_type}/character_{prefix_idx}/\")"
   ]
  },
  {
   "cell_type": "code",
   "execution_count": 129,
   "metadata": {},
   "outputs": [],
   "source": [
    "seed = 1\n",
    "with open(\"/home/rob/Git/meta-fsl-nas/data/OmniPrint/meta1_labels.json\", 'w') as f:\n",
    "    json.dump(meta1_labels, f)\n",
    "split_train_val_test(meta1_labels, seed, meta_set=\"meta1\")\n",
    "\n",
    "with open(\"/home/rob/Git/meta-fsl-nas/data/OmniPrint/meta2_labels.json\", 'w') as f:\n",
    "    json.dump(meta2_labels, f)\n",
    "split_train_val_test(meta2_labels, seed, meta_set=\"meta2\")\n",
    "    \n",
    "with open(\"/home/rob/Git/meta-fsl-nas/data/OmniPrint/meta3_labels.json\", 'w') as f:\n",
    "    json.dump(meta3_labels, f)\n",
    "split_train_val_test(meta3_labels, seed, meta_set=\"meta3\")\n",
    "    \n",
    "with open(\"/home/rob/Git/meta-fsl-nas/data/OmniPrint/meta4_labels.json\", 'w') as f:\n",
    "    json.dump(meta4_labels, f)\n",
    "split_train_val_test(meta4_labels, seed, meta_set=\"meta4\")\n",
    "    \n",
    "with open(\"/home/rob/Git/meta-fsl-nas/data/OmniPrint/meta5_labels.json\", 'w') as f:\n",
    "    json.dump(meta5_labels, f)\n",
    "split_train_val_test(meta5_labels, seed, meta_set=\"meta5\")"
   ]
  },
  {
   "cell_type": "code",
   "execution_count": 128,
   "metadata": {},
   "outputs": [],
   "source": [
    "def split_train_val_test(labels, seed, meta_set):\n",
    "    np.random.seed(2)\n",
    "    np.random.shuffle(labels)\n",
    "    \n",
    "    train, val, test = labels[:900], labels[900:1049], labels[1049:]\n",
    "    \n",
    "    with open(f\"/home/rob/Git/meta-fsl-nas/data/OmniPrint/{meta_set}_train_labels.json\", 'w') as f:\n",
    "        json.dump(train, f)\n",
    "        \n",
    "    with open(f\"/home/rob/Git/meta-fsl-nas/data/OmniPrint/{meta_set}_val_labels.json\", 'w') as f:\n",
    "        json.dump(val, f)\n",
    "        \n",
    "    with open(f\"/home/rob/Git/meta-fsl-nas/data/OmniPrint/{meta_set}_test_labels.json\", 'w') as f:\n",
    "        json.dump(test, f)"
   ]
  },
  {
   "cell_type": "code",
   "execution_count": null,
   "metadata": {},
   "outputs": [],
   "source": []
  },
  {
   "cell_type": "code",
   "execution_count": null,
   "metadata": {},
   "outputs": [],
   "source": []
  }
 ],
 "metadata": {
  "kernelspec": {
   "display_name": "Python 3",
   "language": "python",
   "name": "python3"
  },
  "language_info": {
   "codemirror_mode": {
    "name": "ipython",
    "version": 3
   },
   "file_extension": ".py",
   "mimetype": "text/x-python",
   "name": "python",
   "nbconvert_exporter": "python",
   "pygments_lexer": "ipython3",
   "version": "3.7.10"
  }
 },
 "nbformat": 4,
 "nbformat_minor": 4
}
